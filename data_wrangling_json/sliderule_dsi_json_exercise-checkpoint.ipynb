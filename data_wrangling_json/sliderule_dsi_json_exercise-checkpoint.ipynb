{
 "cells": [
  {
   "cell_type": "markdown",
   "metadata": {},
   "source": [
    "# JSON examples and exercise\n",
    "****\n",
    "+ get familiar with packages for dealing with JSON\n",
    "+ study examples with JSON strings and files \n",
    "+ work on exercise to be completed and submitted \n",
    "****\n",
    "+ reference: http://pandas-docs.github.io/pandas-docs-travis/io.html#json\n",
    "+ data source: http://jsonstudio.com/resources/\n",
    "****"
   ]
  },
  {
   "cell_type": "code",
   "execution_count": null,
   "metadata": {
    "collapsed": true
   },
   "outputs": [],
   "source": [
    "import pandas as pd"
   ]
  },
  {
   "cell_type": "markdown",
   "metadata": {},
   "source": [
    "## imports for Python, Pandas"
   ]
  },
  {
   "cell_type": "code",
   "execution_count": null,
   "metadata": {
    "collapsed": true
   },
   "outputs": [],
   "source": [
    "import json\n",
    "from pandas.io.json import json_normalize"
   ]
  },
  {
   "cell_type": "markdown",
   "metadata": {},
   "source": [
    "## JSON example, with string\n",
    "\n",
    "+ demonstrates creation of normalized dataframes (tables) from nested json string\n",
    "+ source: http://pandas-docs.github.io/pandas-docs-travis/io.html#normalization"
   ]
  },
  {
   "cell_type": "code",
   "execution_count": null,
   "metadata": {
    "collapsed": true
   },
   "outputs": [],
   "source": [
    "# define json string\n",
    "data = [{'state': 'Florida', \n",
    "         'shortname': 'FL',\n",
    "         'info': {'governor': 'Rick Scott'},\n",
    "         'counties': [{'name': 'Dade', 'population': 12345},\n",
    "                      {'name': 'Broward', 'population': 40000},\n",
    "                      {'name': 'Palm Beach', 'population': 60000}]},\n",
    "        {'state': 'Ohio',\n",
    "         'shortname': 'OH',\n",
    "         'info': {'governor': 'John Kasich'},\n",
    "         'counties': [{'name': 'Summit', 'population': 1234},\n",
    "                      {'name': 'Cuyahoga', 'population': 1337}]}]"
   ]
  },
  {
   "cell_type": "code",
   "execution_count": null,
   "metadata": {},
   "outputs": [],
   "source": [
    "# use normalization to create tables from nested element\n",
    "json_normalize(data, 'counties')"
   ]
  },
  {
   "cell_type": "code",
   "execution_count": null,
   "metadata": {},
   "outputs": [],
   "source": [
    "# further populate tables created from nested element\n",
    "json_normalize(data, 'counties', ['state', 'shortname', ['info', 'governor']])"
   ]
  },
  {
   "cell_type": "markdown",
   "metadata": {},
   "source": [
    "****\n",
    "## JSON example, with file\n",
    "\n",
    "+ demonstrates reading in a json file as a string and as a table\n",
    "+ uses small sample file containing data about projects funded by the World Bank \n",
    "+ data source: http://jsonstudio.com/resources/"
   ]
  },
  {
   "cell_type": "code",
   "execution_count": null,
   "metadata": {},
   "outputs": [],
   "source": [
    "# load json as string\n",
    "json.load((open('data/world_bank_projects_less.json')))"
   ]
  },
  {
   "cell_type": "code",
   "execution_count": null,
   "metadata": {},
   "outputs": [],
   "source": [
    "# load as Pandas dataframe\n",
    "sample_json_df = pd.read_json('data/world_bank_projects_less.json')\n",
    "sample_json_df"
   ]
  },
  {
   "cell_type": "markdown",
   "metadata": {},
   "source": [
    "****\n",
    "## JSON exercise\n",
    "\n",
    "Using data in file 'data/world_bank_projects.json' and the techniques demonstrated above,\n",
    "1. Find the 10 countries with most projects\n",
    "2. Find the top 10 major project themes (using column 'mjtheme_namecode')\n",
    "3. In 2. above you will notice that some entries have only the code and the name is missing. Create a dataframe with the missing names filled in."
   ]
  },
  {
   "cell_type": "code",
   "execution_count": null,
   "metadata": {},
   "outputs": [],
   "source": [
    "#create dataframe\n",
    "df = pd.read_json('data/world_bank_projects.json')\n",
    "\n",
    "#list top 10 countries with most proposals\n",
    "print('\\n#####\\n\\nTop 10 countries with most proposals\\n')\n",
    "print(df.countryshortname.sort_values().value_counts().head(10))\n",
    "\n",
    "###\n",
    "\n",
    "#find top 10 major project themes\n",
    "#\n",
    "#projects have multiple themes stored as list of dictionaries {'code':<str>, 'name':<str>}\n",
    "s = list(map(lambda i: len(df.mjtheme_namecode[i]), df.mjtheme_namecode.index))\n",
    "print(\"\\n#####\\n\\nProjects have multiple themes stored as list of dictionaries {'code':<str>, 'name':<str>}\\n\")\n",
    "print(s)\n",
    "print('\\nTotal projects: ' + str(sum(s)))\n",
    "\n",
    "def namecode(df):\n",
    "    all = []\n",
    "\n",
    "    #find all themes for all projects and place sequentially in one list\n",
    "    #\n",
    "    #step through records (rows)\n",
    "    for rec in df.mjtheme_namecode.index:\n",
    "\n",
    "        #step through dictionary \n",
    "        for pos in df.mjtheme_namecode[rec]:\n",
    "            all.append(pos)\n",
    "        \n",
    "    codes = []\n",
    "    desc = []\n",
    "\n",
    "    #split out codes and themes for all instances --> 2 k:v pairs per record\n",
    "    for rec in all:\n",
    "\n",
    "        #1st value is code\n",
    "        codes.append(list(rec.values())[0])\n",
    "    \n",
    "        #2nd value is theme\n",
    "        desc.append(list(rec.values())[1])\n",
    "    \n",
    "    #create code:theme pairs in dataframe of all codes and instances retaining 1-1 correspondence\n",
    "    dfcode = pd.DataFrame(desc, index=codes, columns=['desc'])\n",
    "    \n",
    "    print('\\n#####\\n\\ncode:theme pairs\\n')\n",
    "    print(dfcode)\n",
    "    print('\\n')\n",
    "    \n",
    "    #top 10 themes - note nearly 1/4 not named\n",
    "    s = dfcode.desc.sort_values().value_counts()\n",
    "    \n",
    "    print('\\n#####\\n\\nTop 10 major project themes\\n')\n",
    "    print(s.head(10))\n",
    "    print('\\n')\n",
    "    print('\\n#####\\n\\nAll major project themes\\n')\n",
    "    print(s.head(12))\n",
    "    print('\\nTotal themes: ' + str(sum(s)))\n",
    "    \n",
    "    return dfcode\n",
    "\n",
    "print('\\n')\n",
    "dfcode = namecode(df)\n",
    "\n",
    "#create dict to fill in missing values\n",
    "#\n",
    "\n",
    "#empty string to NaN\n",
    "from numpy import nan\n",
    "\n",
    "dfcode = dfcode.replace('', nan)\n",
    "\n",
    "#drop NA containing records\n",
    "dfcode = dfcode.dropna()\n",
    "\n",
    "#make dict from unique pairs\n",
    "codedict = dict(zip(dfcode.index.unique(), dfcode.desc.unique()))\n",
    "\n",
    "#fill in missing themes\n",
    "#\n",
    "#step by record (row)\n",
    "for rec in df.mjtheme_namecode.index:\n",
    "\n",
    "\t#step through list of dictionaries\n",
    "    for pos in df.mjtheme_namecode[rec]:\n",
    "    \n",
    "\t\t#blank theme\n",
    "        if pos['name'] == '':\n",
    "        \n",
    "        \t#code value as key to theme description; empty value replaced\n",
    "            pos['name'] = codedict[pos['code']]\n",
    "            \n",
    "#dataframe fixed\n",
    "print('\\n#####\\n\\ndataframe fixed below')\n",
    "dfcode = namecode(df)\n",
    "   \n",
    "# Finis!\n",
    "print('\\n')\n",
    "print('\\nFinis!')"
   ]
  }
 ],
 "metadata": {
  "kernelspec": {
   "display_name": "Python 3",
   "language": "python",
   "name": "python3"
  },
  "language_info": {
   "codemirror_mode": {
    "name": "ipython",
    "version": 3
   },
   "file_extension": ".py",
   "mimetype": "text/x-python",
   "name": "python",
   "nbconvert_exporter": "python",
   "pygments_lexer": "ipython3",
   "version": "3.6.2"
  }
 },
 "nbformat": 4,
 "nbformat_minor": 1
}
